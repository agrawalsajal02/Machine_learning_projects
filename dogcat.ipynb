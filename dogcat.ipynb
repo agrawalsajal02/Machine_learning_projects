{
  "nbformat": 4,
  "nbformat_minor": 0,
  "metadata": {
    "colab": {
      "name": "dogcat.ipynb",
      "provenance": [],
      "collapsed_sections": [],
      "mount_file_id": "1Pnr5_AcWRg_f_BhWlsLgndC7Pzn9HrEN",
      "authorship_tag": "ABX9TyPmGFaQPTVXOX46WXPfLyIN",
      "include_colab_link": true
    },
    "kernelspec": {
      "name": "python3",
      "display_name": "Python 3"
    },
    "accelerator": "GPU"
  },
  "cells": [
    {
      "cell_type": "markdown",
      "metadata": {
        "id": "view-in-github",
        "colab_type": "text"
      },
      "source": [
        "<a href=\"https://colab.research.google.com/github/agrawalsajal02/Machine_learning_projects/blob/master/dogcat.ipynb\" target=\"_parent\"><img src=\"https://colab.research.google.com/assets/colab-badge.svg\" alt=\"Open In Colab\"/></a>"
      ]
    },
    {
      "cell_type": "code",
      "metadata": {
        "id": "HoXrlG4mMQUH",
        "colab_type": "code",
        "colab": {}
      },
      "source": [
        "import numpy as np\n",
        "import matplotlib.pyplot as plt\n",
        "import os\n",
        "import cv2\n",
        "from random import shuffle\n",
        "from tqdm import tqdm"
      ],
      "execution_count": 0,
      "outputs": []
    },
    {
      "cell_type": "code",
      "metadata": {
        "id": "CF5CP4eLMpR9",
        "colab_type": "code",
        "colab": {}
      },
      "source": [
        "datadir=\"/content/drive/My Drive/Colab Notebooks/cat_dog_dataset/PetImages\"\n",
        "categories=[\"Dog\",\"Cat\"]\n",
        "image=[]\n",
        "for category in categories:\n",
        "  path=os.path.join(datadir,category)\n",
        "  for img in os.listdir(path):\n",
        "    img_array=cv2.imread(os.path.join(path,img),cv2.IMREAD_GRAYSCALE)\n",
        "    #image.push(img_array)\n",
        "    #plt.imshow(img_array,cmap=\"gray\")\n",
        "    #plt.show()\n",
        "    #break\n",
        "  #break\n"
      ],
      "execution_count": 0,
      "outputs": []
    },
    {
      "cell_type": "code",
      "metadata": {
        "id": "YceSeYi6Nijl",
        "colab_type": "code",
        "colab": {
          "base_uri": "https://localhost:8080/",
          "height": 397
        },
        "outputId": "3a0c87e3-9950-4cce-ab76-8adcb238a3e6"
      },
      "source": [
        "print(img_array)\n",
        "img_size=50\n",
        "new_array=cv2.resize(img_array,(img_size,img_size))\n",
        "plt.imshow(new_array,cmap=\"gray\")\n",
        "plt.show()"
      ],
      "execution_count": 20,
      "outputs": [
        {
          "output_type": "stream",
          "text": [
            "[[199 150 153 ... 170 166 164]\n",
            " [146  90  87 ... 115 111 107]\n",
            " [152  88  79 ... 108 103 100]\n",
            " ...\n",
            " [190 152 146 ... 117 114 118]\n",
            " [187 159 142 ... 113 114 121]\n",
            " [188 164 150 ... 120 121 128]]\n"
          ],
          "name": "stdout"
        },
        {
          "output_type": "display_data",
          "data": {
            "image/png": "[encoded data removed]",
            "text/plain": [
              "<Figure size 432x288 with 1 Axes>"
            ]
          },
          "metadata": {
            "tags": []
          }
        }
      ]
    },
    {
      "cell_type": "code",
      "metadata": {
        "id": "mTbHZnJbLwV4",
        "colab_type": "code",
        "colab": {}
      },
      "source": [
        "training_data=[]\n",
        "def create_training_data():\n",
        "  for category in categories:\n",
        "    path=os.path.join(datadir,category)\n",
        "    class_num=categories.index(category)\n",
        "    for img in os.listdir(path):\n",
        "      try:\n",
        "        img_array=cv2.imread(os.path.join(path,img),cv2.IMREAD_GRAYSCALE)\n",
        "        new_array=cv2.resize(img_array,(img_size,img_size))\n",
        "        training_data.append([new_array,class_num])\n",
        "      except Exception as e:\n",
        "        pass\n",
        "      \n",
        "create_training_data()\n",
        "\n",
        "\n"
      ],
      "execution_count": 0,
      "outputs": []
    },
    {
      "cell_type": "code",
      "metadata": {
        "id": "4QJ2tx43OmWj",
        "colab_type": "code",
        "colab": {}
      },
      "source": [
        ""
      ],
      "execution_count": 0,
      "outputs": []
    },
    {
      "cell_type": "code",
      "metadata": {
        "id": "lfHVTO_sOrYs",
        "colab_type": "code",
        "colab": {}
      },
      "source": [
        "import random\n",
        "random.shuffle(training_data)"
      ],
      "execution_count": 0,
      "outputs": []
    },
    {
      "cell_type": "code",
      "metadata": {
        "id": "k5D3PvZOPYsR",
        "colab_type": "code",
        "colab": {
          "base_uri": "https://localhost:8080/",
          "height": 136
        },
        "outputId": "0c6ec428-f5c8-4a1f-c5f7-6e5500809e1d"
      },
      "source": [
        ""
      ],
      "execution_count": 7,
      "outputs": [
        {
          "output_type": "error",
          "ename": "SyntaxError",
          "evalue": "ignored",
          "traceback": [
            "\u001b[0;36m  File \u001b[0;32m\"<ipython-input-7-3dc7588ad58a>\"\u001b[0;36m, line \u001b[0;32m1\u001b[0m\n\u001b[0;31m    for sample in training_data\u001b[0m\n\u001b[0m                               ^\u001b[0m\n\u001b[0;31mSyntaxError\u001b[0m\u001b[0;31m:\u001b[0m invalid syntax\n"
          ]
        }
      ]
    },
    {
      "cell_type": "code",
      "metadata": {
        "id": "wdKixL-SPkAL",
        "colab_type": "code",
        "colab": {}
      },
      "source": [
        "x=[]\n",
        "y=[]"
      ],
      "execution_count": 0,
      "outputs": []
    },
    {
      "cell_type": "code",
      "metadata": {
        "id": "Nl0Osx5mPmep",
        "colab_type": "code",
        "colab": {}
      },
      "source": [
        "for features,label in training_data:\n",
        "  x.append(features)\n",
        "  y.append(label)\n",
        "\n",
        "x=np.array(x).reshape(-1,img_size,img_size,1)\n"
      ],
      "execution_count": 0,
      "outputs": []
    },
    {
      "cell_type": "code",
      "metadata": {
        "id": "A9-BLx53QJze",
        "colab_type": "code",
        "colab": {}
      },
      "source": [
        "import pickle\n",
        "pickle_out=open(\"x.pickle\",\"wb\")\n",
        "pickle.dump(x,pickle_out)\n",
        "pickle_out.close()\n",
        "pickle_out=open(\"y.pickle\",\"wb\")\n",
        "pickle.dump(y,pickle_out)\n",
        "pickle_out.close()"
      ],
      "execution_count": 0,
      "outputs": []
    },
    {
      "cell_type": "code",
      "metadata": {
        "id": "YxLdZIX7QyWW",
        "colab_type": "code",
        "colab": {}
      },
      "source": [
        "x=[]\n",
        "y=[]\n",
        "import pickle\n",
        "pickle_in=open(\"/content/drive/My Drive/Colab Notebooks/cat_dog_dataset/x.pickle\",\"rb\")\n",
        "x=pickle.load(pickle_in)\n",
        "pickle_in=open(\"/content/drive/My Drive/Colab Notebooks/cat_dog_dataset/y.pickle\",\"rb\")\n",
        "y=pickle.load(pickle_in)\n"
      ],
      "execution_count": 0,
      "outputs": []
    },
    {
      "cell_type": "code",
      "metadata": {
        "id": "IkftDVR2Q7yM",
        "colab_type": "code",
        "colab": {}
      },
      "source": [
        " import tensorflow as tf\n",
        " from tensorflow.keras.models import Sequential\n",
        " from tensorflow.keras.layers import Dense,Activation,Dropout,Flatten,Conv2D,MaxPooling2D"
      ],
      "execution_count": 0,
      "outputs": []
    },
    {
      "cell_type": "code",
      "metadata": {
        "id": "9p5xVh8Rqkq5",
        "colab_type": "code",
        "colab": {}
      },
      "source": [
        "from tensorflow.keras.callbacks import TensorBoard\n",
        "import time\n",
        "name=\"Cats-vs-dogs-cnn-64*2-{}\".format(int(time.time()))\n",
        "tensorboard=TensorBoard(log_dir='/content/drive/My Drive/Colab Notebooks/cat_dog_dataset/logs/{}'.format(name))"
      ],
      "execution_count": 0,
      "outputs": []
    },
    {
      "cell_type": "code",
      "metadata": {
        "id": "BH4sDBXtatHS",
        "colab_type": "code",
        "colab": {
          "base_uri": "https://localhost:8080/",
          "height": 54
        },
        "outputId": "aacb9c5a-5472-46ad-df60-1e4fc9e99b72"
      },
      "source": [
        "import numpy as np  \n",
        "x = np.array(x) \n",
        "x = x/255.0\n",
        "y=np.array(y)\n",
        "print(x.shape)\n",
        "print(y[0])\n"
      ],
      "execution_count": 56,
      "outputs": [
        {
          "output_type": "stream",
          "text": [
            "(162, 50, 50, 1)\n",
            "0\n"
          ],
          "name": "stdout"
        }
      ]
    },
    {
      "cell_type": "code",
      "metadata": {
        "id": "ihZz5qjQe1jU",
        "colab_type": "code",
        "colab": {}
      },
      "source": [
        ""
      ],
      "execution_count": 0,
      "outputs": []
    },
    {
      "cell_type": "code",
      "metadata": {
        "id": "vf-woJQKfy2L",
        "colab_type": "code",
        "colab": {
          "base_uri": "https://localhost:8080/",
          "height": 425
        },
        "outputId": "b26ac00f-38c8-4d49-8725-4b8e42e06d87"
      },
      "source": [
        "model = Sequential()\n",
        "\n",
        "model.add(Conv2D(256, (3, 3), input_shape=x.shape[1:]))\n",
        "model.add(Activation('relu'))\n",
        "model.add(MaxPooling2D(pool_size=(2, 2)))\n",
        "\n",
        "\n",
        "# model.add(Conv2D(256, (3, 3)))\n",
        "# model.add(Activation('relu'))\n",
        "# model.add(MaxPooling2D(pool_size=(2, 2)))\n",
        "\n",
        "\n",
        "model.add(Flatten())  # this converts our 3D feature maps to 1D feature vectors\n",
        "\n",
        "model.add(Dense(64))\n",
        "\n",
        "model.add(Dense(1))\n",
        "model.add(Activation('sigmoid'))\n",
        "\n",
        "model.compile(loss='binary_crossentropy',\n",
        "              optimizer='adam',\n",
        "              metrics=['accuracy'])\n",
        "model.summary()\n"
      ],
      "execution_count": 57,
      "outputs": [
        {
          "output_type": "stream",
          "text": [
            "Model: \"sequential_6\"\n",
            "_________________________________________________________________\n",
            "Layer (type)                 Output Shape              Param #   \n",
            "=================================================================\n",
            "conv2d_9 (Conv2D)            (None, 48, 48, 256)       2560      \n",
            "_________________________________________________________________\n",
            "activation_15 (Activation)   (None, 48, 48, 256)       0         \n",
            "_________________________________________________________________\n",
            "max_pooling2d_9 (MaxPooling2 (None, 24, 24, 256)       0         \n",
            "_________________________________________________________________\n",
            "flatten_6 (Flatten)          (None, 147456)            0         \n",
            "_________________________________________________________________\n",
            "dense_12 (Dense)             (None, 64)                9437248   \n",
            "_________________________________________________________________\n",
            "dense_13 (Dense)             (None, 1)                 65        \n",
            "_________________________________________________________________\n",
            "activation_16 (Activation)   (None, 1)                 0         \n",
            "=================================================================\n",
            "Total params: 9,439,873\n",
            "Trainable params: 9,439,873\n",
            "Non-trainable params: 0\n",
            "_________________________________________________________________\n"
          ],
          "name": "stdout"
        }
      ]
    },
    {
      "cell_type": "code",
      "metadata": {
        "id": "Q112wUe8kWeo",
        "colab_type": "code",
        "colab": {
          "base_uri": "https://localhost:8080/",
          "height": 445
        },
        "outputId": "8ba9d44b-3586-4fe2-e0f1-5fbb8614894e"
      },
      "source": [
        "model.fit(x, y, batch_size=32, epochs=10, validation_split=0.3,callbacks=[tensorboard])"
      ],
      "execution_count": 58,
      "outputs": [
        {
          "output_type": "stream",
          "text": [
            "Train on 113 samples, validate on 49 samples\n",
            "Epoch 1/10\n",
            "113/113 [==============================] - 0s 3ms/sample - loss: 4.1907 - acc: 0.5221 - val_loss: 8.1516 - val_acc: 0.3265\n",
            "Epoch 2/10\n",
            "113/113 [==============================] - 0s 423us/sample - loss: 3.2212 - acc: 0.5221 - val_loss: 2.2802 - val_acc: 0.6735\n",
            "Epoch 3/10\n",
            "113/113 [==============================] - 0s 395us/sample - loss: 2.0895 - acc: 0.5841 - val_loss: 1.0433 - val_acc: 0.6735\n",
            "Epoch 4/10\n",
            "113/113 [==============================] - 0s 415us/sample - loss: 0.7013 - acc: 0.5841 - val_loss: 0.9109 - val_acc: 0.3265\n",
            "Epoch 5/10\n",
            "113/113 [==============================] - 0s 512us/sample - loss: 0.4961 - acc: 0.7522 - val_loss: 0.6677 - val_acc: 0.6735\n",
            "Epoch 6/10\n",
            "113/113 [==============================] - 0s 412us/sample - loss: 0.4265 - acc: 0.7611 - val_loss: 0.6386 - val_acc: 0.6939\n",
            "Epoch 7/10\n",
            "113/113 [==============================] - 0s 412us/sample - loss: 0.3489 - acc: 0.9381 - val_loss: 0.6536 - val_acc: 0.6939\n",
            "Epoch 8/10\n",
            "113/113 [==============================] - 0s 399us/sample - loss: 0.2783 - acc: 0.9823 - val_loss: 0.6881 - val_acc: 0.6735\n",
            "Epoch 9/10\n",
            "113/113 [==============================] - 0s 473us/sample - loss: 0.2145 - acc: 0.9646 - val_loss: 0.7366 - val_acc: 0.5510\n",
            "Epoch 10/10\n",
            "113/113 [==============================] - 0s 395us/sample - loss: 0.1471 - acc: 1.0000 - val_loss: 0.7808 - val_acc: 0.5918\n"
          ],
          "name": "stdout"
        },
        {
          "output_type": "execute_result",
          "data": {
            "text/plain": [
              "<tensorflow.python.keras.callbacks.History at 0x7fe014e02e80>"
            ]
          },
          "metadata": {
            "tags": []
          },
          "execution_count": 58
        }
      ]
    },
    {
      "cell_type": "code",
      "metadata": {
        "id": "zN_lOdiDk6_K",
        "colab_type": "code",
        "colab": {}
      },
      "source": [
        "# to view tensorboard \n",
        "#type interminal , afterlocating the log directry that you have downloaded from collab location\n",
        "#tensorboard --logdir=\"C:/Users/DELL/Downloads/logs-20200309T100123Z-001/logs\n"
      ],
      "execution_count": 0,
      "outputs": []
    },
    {
      "cell_type": "code",
      "metadata": {
        "id": "JF2fyCmbxMeK",
        "colab_type": "code",
        "colab": {}
      },
      "source": [
        "model.save(\"/content/drive/My Drive/Colab Notebooks/cat_dog_dataset/64bitconvnet.model\")"
      ],
      "execution_count": 0,
      "outputs": []
    },
    {
      "cell_type": "code",
      "metadata": {
        "id": "1dJhYtAOxWMD",
        "colab_type": "code",
        "colab": {}
      },
      "source": [
        "\n"
      ],
      "execution_count": 0,
      "outputs": []
    },
    {
      "cell_type": "code",
      "metadata": {
        "id": "QPkL4mJbxsB4",
        "colab_type": "code",
        "colab": {}
      },
      "source": [
        ""
      ],
      "execution_count": 0,
      "outputs": []
    },
    {
      "cell_type": "code",
      "metadata": {
        "id": "vctfwcFGxtVS",
        "colab_type": "code",
        "colab": {}
      },
      "source": [
        ""
      ],
      "execution_count": 0,
      "outputs": []
    },
    {
      "cell_type": "code",
      "metadata": {
        "id": "qWssmGf7xtX5",
        "colab_type": "code",
        "colab": {}
      },
      "source": [
        ""
      ],
      "execution_count": 0,
      "outputs": []
    },
    {
      "cell_type": "code",
      "metadata": {
        "id": "5Lymnx9KxtbZ",
        "colab_type": "code",
        "colab": {}
      },
      "source": [
        "import cv2\n",
        "import tensorflow as tf\n",
        "categories=[\"Dog\",\"Cat\"]\n",
        "def prepare(filepath):\n",
        "  img_size=50\n",
        "  img_array=cv2.imread(filepath,cv2.IMREAD_GRAYSCALE)\n",
        "  new_array=cv2.resize(img_array,(img_size,img_size))\n",
        "  return new_array.reshape(-1,img_size,img_size,1)"
      ],
      "execution_count": 0,
      "outputs": []
    },
    {
      "cell_type": "code",
      "metadata": {
        "id": "VbmuKEfPymLz",
        "colab_type": "code",
        "colab": {
          "base_uri": "https://localhost:8080/",
          "height": 54
        },
        "outputId": "c18a1084-2109-4ac7-9ec7-240c9f4a025a"
      },
      "source": [
        "model=tf.keras.models.load_model(\"/content/drive/My Drive/Colab Notebooks/cat_dog_dataset/64bitconvnet.model\")\n",
        "#remember alwawys predict a list,even for 1 item\n",
        "prediction=model.predict([prepare(\"/content/drive/My Drive/Colab Notebooks/cat_dog_dataset/PetImages/Dog/0.jpg\")])\n",
        "print(prediction)\n",
        "print(categories[int(prediction[0][0])])"
      ],
      "execution_count": 70,
      "outputs": [
        {
          "output_type": "stream",
          "text": [
            "[[0.]]\n",
            "Dog\n"
          ],
          "name": "stdout"
        }
      ]
    },
    {
      "cell_type": "code",
      "metadata": {
        "id": "zRd7jBK4zTxS",
        "colab_type": "code",
        "colab": {}
      },
      "source": [
        ""
      ],
      "execution_count": 0,
      "outputs": []
    }
  ]
}