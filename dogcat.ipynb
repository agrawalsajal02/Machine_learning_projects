{
  "nbformat": 4,
  "nbformat_minor": 0,
  "metadata": {
    "colab": {
      "name": "dogcat.ipynb",
      "provenance": [],
      "collapsed_sections": [],
      "mount_file_id": "1Pnr5_AcWRg_f_BhWlsLgndC7Pzn9HrEN",
      "authorship_tag": "ABX9TyMIhZeJi0/0HIC/3QMNJYoB",
      "include_colab_link": true
    },
    "kernelspec": {
      "name": "python3",
      "display_name": "Python 3"
    },
    "accelerator": "GPU"
  },
  "cells": [
    {
      "cell_type": "markdown",
      "metadata": {
        "id": "view-in-github",
        "colab_type": "text"
      },
      "source": [
        "<a href=\"https://colab.research.google.com/github/agrawalsajal02/Machine_learning_projects/blob/master/dogcat.ipynb\" target=\"_parent\"><img src=\"https://colab.research.google.com/assets/colab-badge.svg\" alt=\"Open In Colab\"/></a>"
      ]
    },
    {
      "cell_type": "code",
      "metadata": {
        "id": "HoXrlG4mMQUH",
        "colab_type": "code",
        "colab": {}
      },
      "source": [
        "import numpy as np\n",
        "import matplotlib.pyplot as plt\n",
        "import os\n",
        "import cv2\n",
        "from random import shuffle\n",
        "from tqdm import tqdm"
      ],
      "execution_count": 0,
      "outputs": []
    },
    {
      "cell_type": "code",
      "metadata": {
        "id": "CF5CP4eLMpR9",
        "colab_type": "code",
        "colab": {}
      },
      "source": [
        "datadir=\"/content/drive/My Drive/Colab Notebooks/cat_dog_dataset/PetImages\"\n",
        "categories=[\"Dog\",\"Cat\"]\n",
        "image=[]\n",
        "for category in categories:\n",
        "  path=os.path.join(datadir,category)\n",
        "  for img in os.listdir(path):\n",
        "    img_array=cv2.imread(os.path.join(path,img),cv2.IMREAD_GRAYSCALE)\n",
        "    #image.push(img_array)\n",
        "    #plt.imshow(img_array,cmap=\"gray\")\n",
        "    #plt.show()\n",
        "    #break\n",
        "  #break\n"
      ],
      "execution_count": 0,
      "outputs": []
    },
    {
      "cell_type": "code",
      "metadata": {
        "id": "YceSeYi6Nijl",
        "colab_type": "code",
        "colab": {
          "base_uri": "https://localhost:8080/",
          "height": 398
        },
        "outputId": "1124fe4d-c6b5-44ea-a5f0-5335f68ca770"
      },
      "source": [
        "print(img_array)\n",
        "img_size=100\n",
        "new_array=cv2.resize(img_array,(img_size,img_size))\n",
        "plt.imshow(new_array,cmap=\"gray\")\n",
        "plt.show()"
      ],
      "execution_count": 9,
      "outputs": [
        {
          "output_type": "stream",
          "text": [
            "[[199 150 153 ... 170 166 164]\n",
            " [146  90  87 ... 115 111 107]\n",
            " [152  88  79 ... 108 103 100]\n",
            " ...\n",
            " [190 152 146 ... 117 114 118]\n",
            " [187 159 142 ... 113 114 121]\n",
            " [188 164 150 ... 120 121 128]]\n"
          ],
          "name": "stdout"
        },
        {
          "output_type": "display_data",
          "data": {
            "image/png": "[encoded data removed]",
            "text/plain": [
              "<Figure size 432x288 with 1 Axes>"
            ]
          },
          "metadata": {
            "tags": []
          }
        }
      ]
    },
    {
      "cell_type": "code",
      "metadata": {
        "id": "mTbHZnJbLwV4",
        "colab_type": "code",
        "colab": {}
      },
      "source": [
        "training_data=[]\n",
        "def create_training_data():\n",
        "  for category in categories:\n",
        "    path=os.path.join(datadir,category)\n",
        "    class_num=categories.index(category)\n",
        "    for img in os.listdir(path):\n",
        "      try:\n",
        "        img_array=cv2.imread(os.path.join(path,img),cv2.IMREAD_GRAYSCALE)\n",
        "        new_array=cv2.resize(img_array,(img_size,img_size))\n",
        "        training_data.append([new_array,class_num])\n",
        "      except Exception as e:\n",
        "        pass\n",
        "      \n",
        "create_training_data()\n",
        "\n",
        "\n"
      ],
      "execution_count": 0,
      "outputs": []
    },
    {
      "cell_type": "code",
      "metadata": {
        "id": "4QJ2tx43OmWj",
        "colab_type": "code",
        "colab": {
          "base_uri": "https://localhost:8080/",
          "height": 147
        },
        "outputId": "56fec215-c4ae-42a4-f6d1-b5e2a6470073"
      },
      "source": [
        "print(training_data[2]) "
      ],
      "execution_count": 16,
      "outputs": [
        {
          "output_type": "stream",
          "text": [
            "[array([[255, 255, 255, ..., 255, 255, 255],\n",
            "       [255, 255, 255, ..., 255, 255, 255],\n",
            "       [255, 255, 255, ..., 253, 255, 255],\n",
            "       ...,\n",
            "       [254, 254, 249, ..., 244, 255, 254],\n",
            "       [255, 255, 255, ..., 254, 255, 255],\n",
            "       [255, 255, 255, ..., 255, 255, 255]], dtype=uint8), 0]\n"
          ],
          "name": "stdout"
        }
      ]
    },
    {
      "cell_type": "code",
      "metadata": {
        "id": "lfHVTO_sOrYs",
        "colab_type": "code",
        "colab": {}
      },
      "source": [
        "import random\n",
        "random.shuffle(training_data)"
      ],
      "execution_count": 0,
      "outputs": []
    },
    {
      "cell_type": "code",
      "metadata": {
        "id": "k5D3PvZOPYsR",
        "colab_type": "code",
        "colab": {}
      },
      "source": [
        "for sample in training_data\n",
        "  print(sample[1])"
      ],
      "execution_count": 0,
      "outputs": []
    },
    {
      "cell_type": "code",
      "metadata": {
        "id": "wdKixL-SPkAL",
        "colab_type": "code",
        "colab": {}
      },
      "source": [
        "x=[]\n",
        "y=[]"
      ],
      "execution_count": 0,
      "outputs": []
    },
    {
      "cell_type": "code",
      "metadata": {
        "id": "Nl0Osx5mPmep",
        "colab_type": "code",
        "colab": {}
      },
      "source": [
        "for features,label in training_data:\n",
        "  x.append(features)\n",
        "  y.append(label)\n",
        "\n",
        "x=np.array(x).reshape(-1,img_size,img_size,1)"
      ],
      "execution_count": 0,
      "outputs": []
    },
    {
      "cell_type": "code",
      "metadata": {
        "id": "A9-BLx53QJze",
        "colab_type": "code",
        "colab": {}
      },
      "source": [
        "import pickle\n",
        "pickle_out=open(\"x.pickle\",\"wb\")\n",
        "pickle.dump(x,pickle_out)\n",
        "pickle_out.close()\n",
        "pickle_out=open(\"y.pickle\",\"wb\")\n",
        "pickle.dump(y,pickle_out)\n",
        "pickle_out.close()"
      ],
      "execution_count": 0,
      "outputs": []
    },
    {
      "cell_type": "code",
      "metadata": {
        "id": "YxLdZIX7QyWW",
        "colab_type": "code",
        "colab": {
          "base_uri": "https://localhost:8080/",
          "height": 36
        },
        "outputId": "7d5a11e1-21c7-49e9-8217-179b1ce95969"
      },
      "source": [
        "pickle_in=open(\"/content/x.pickle\",\"rb\")\n",
        "x=pickle.load(pickle_in)\n",
        "print(x.shape)"
      ],
      "execution_count": 33,
      "outputs": [
        {
          "output_type": "stream",
          "text": [
            "(486, 100, 100, 1)\n"
          ],
          "name": "stdout"
        }
      ]
    },
    {
      "cell_type": "code",
      "metadata": {
        "id": "IkftDVR2Q7yM",
        "colab_type": "code",
        "colab": {}
      },
      "source": [
        ""
      ],
      "execution_count": 0,
      "outputs": []
    }
  ]
}